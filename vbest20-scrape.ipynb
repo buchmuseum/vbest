{
 "cells": [
  {
   "cell_type": "markdown",
   "metadata": {},
   "source": [
    "# Automatische Auswertung der Spiegel Bestseller-Listen"
   ]
  },
  {
   "cell_type": "code",
   "execution_count": 1,
   "metadata": {},
   "outputs": [],
   "source": [
    "from bs4 import BeautifulSoup as soup\n",
    "import requests"
   ]
  },
  {
   "cell_type": "code",
   "execution_count": 7,
   "metadata": {},
   "outputs": [
    {
     "name": "stdout",
     "output_type": "stream",
     "text": [
      "HARDCOVER:\n",
      "Schrowange, Birgit: Birgit ungeschminkt. EAN: 9783965840188. 17,99 €.\n",
      "PAPERBACK:\n",
      "Ribeiro, Gil: Schwarzer August. EAN: 9783462052695. 16,00 €.\n",
      "Bomann, Corina: Die Farben der Schönheit. Sophias Träume. EAN: 9783864931178. 14,99 €.\n",
      "Bannalec, Jean-Luc: Bretonische Spezialitäten. EAN: 9783462054019. 16,00 €.\n",
      "Hirigoyen, Marie-France: Die toxische Macht der Narzissten. EAN: 9783406750076. 16,95 €.\n",
      "Krause, Timon: Du bist Mentalist!. EAN: 9783593509266. 18,00 €.\n",
      "Bernhardt, Klaus: Panikattacken und andere Angststörungen loswerden. EAN: 9783424201772. 16,99 €.\n",
      "TASCHENBUCHER:\n",
      "Scarrow, Simon: Helden der Schlacht. EAN: 9783453471795. 9,99 €.\n",
      "Ward, J. R.: Schwur des Kriegers. EAN: 9783453320796. 9,99 €.\n"
     ]
    }
   ],
   "source": [
    "kategorien = ['hardcover','paperback','taschenbucher']\n",
    "for kategorie in kategorien:\n",
    "    base_url = f\"https://www.buchreport.de/spiegel-bestseller/{kategorie}/\"\n",
    "    print(f\"{kategorie.upper()}:\")\n",
    "    params = {}\n",
    "    for i in range(2):\n",
    "        params.update({'bestseller_list_paging':i+1})\n",
    "        html = requests.get(base_url, params)\n",
    "        html_soup = soup(html.content, \"html\")\n",
    "        bestseller = html_soup.find_all('div', {'class':'bestseller-list-column information'})\n",
    "        for item in bestseller:\n",
    "            woche = item.find('span', {'class':'week'}).get_text().strip()\n",
    "            if woche == '1. Woche':\n",
    "                author = item.find('div', {'class':'author'}).get_text().strip()\n",
    "                title = item.find('div', {'class':'title'}).get_text().strip()\n",
    "                price = item.find('span', {'class': 'preis'}).get_text().strip()\n",
    "                isbn = item.find('span', {'class': 'isbn'}).get_text().strip()\n",
    "                print(f'{author}: {title}. {isbn}. {price}.')"
   ]
  },
  {
   "cell_type": "code",
   "execution_count": null,
   "metadata": {},
   "outputs": [],
   "source": []
  }
 ],
 "metadata": {
  "kernelspec": {
   "display_name": "Python 3",
   "language": "python",
   "name": "python3"
  },
  "language_info": {
   "codemirror_mode": {
    "name": "ipython",
    "version": 3
   },
   "file_extension": ".py",
   "mimetype": "text/x-python",
   "name": "python",
   "nbconvert_exporter": "python",
   "pygments_lexer": "ipython3",
   "version": "3.7.3"
  }
 },
 "nbformat": 4,
 "nbformat_minor": 4
}
